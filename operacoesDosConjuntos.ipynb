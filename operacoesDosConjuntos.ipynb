{
 "cells": [
  {
   "cell_type": "markdown",
   "metadata": {},
   "source": [
    "### Questão 01"
   ]
  },
  {
   "cell_type": "code",
   "execution_count": 2,
   "metadata": {},
   "outputs": [
    {
     "name": "stdout",
     "output_type": "stream",
     "text": [
      " A U B = {0, 1, 2, 3, 4, 5}\n"
     ]
    }
   ],
   "source": [
    "#A) Dados A = {0, 1, 2, 3} e B = {2, 3, 4, 5}, determine A ∪ B. \n",
    "A = {0, 1 ,2 ,3}\n",
    "B = {2, 3, 4, 5}\n",
    "C = A|B # A U B \n",
    "print(\" A U B =\", C)"
   ]
  },
  {
   "cell_type": "code",
   "execution_count": 3,
   "metadata": {},
   "outputs": [
    {
     "name": "stdout",
     "output_type": "stream",
     "text": [
      "A - B =  {0, 2, 5}\n",
      "B - A =  {1, 3, 6, -2}\n"
     ]
    }
   ],
   "source": [
    "#B) Dados A = {- 1, 0, 2, 4, 5} e B = {- 2, - 1, 1, 3, 4, 6}, determine A - B e B - A.\n",
    "A = {-1, 0, 2, 4, 5}\n",
    "B = {-2, -1, 1, 3, 4, 6}\n",
    "C = A - B\n",
    "D = B - A\n",
    "print(\"A - B = \", C)\n",
    "print(\"B - A = \", D)"
   ]
  },
  {
   "cell_type": "code",
   "execution_count": 10,
   "metadata": {},
   "outputs": [
    {
     "name": "stdout",
     "output_type": "stream",
     "text": [
      "A - B | C | D {4}\n"
     ]
    }
   ],
   "source": [
    "#C) Considere os conjuntos A = {0, 1, 2, 3, 4, 5, 6}, B = {1, 2}, C = {2, 3, 4} e D = {4, 5}, determine.(A − B) ∩ (C ∩ D).\n",
    "A = {0, 1, 2, 3, 4, 5, 6}\n",
    "B = {1, 2}\n",
    "C = {2, 3, 4}\n",
    "D = {4, 5}\n",
    "E = A - B\n",
    "F = C & D\n",
    "G = E & F\n",
    "\n",
    "print(\"A - B | C | D\", G)\n",
    "##& = Intersecção\n",
    "\n"
   ]
  },
  {
   "cell_type": "code",
   "execution_count": 13,
   "metadata": {},
   "outputs": [
    {
     "name": "stdout",
     "output_type": "stream",
     "text": [
      "O resultado final é:  {0}\n"
     ]
    }
   ],
   "source": [
    "#d) Dados os conjuntos A = {0, -1, 1}, B = {1, 3, 4} e C = {0, 1}, determine (A − B) ∩ (C − B).\n",
    "A = {0, -1, 1}\n",
    "B = {1, 3, 4}\n",
    "C = {0, 1}\n",
    "D = A - B\n",
    "E = C - B\n",
    "F = D & E\n",
    "\n",
    "print(\"O resultado final é: \", F)"
   ]
  },
  {
   "cell_type": "code",
   "execution_count": 15,
   "metadata": {},
   "outputs": [
    {
     "name": "stdout",
     "output_type": "stream",
     "text": [
      "O resultado de 'E' é:  {0, 1, 2, -2}\n"
     ]
    }
   ],
   "source": [
    "#e) Dados os conjuntos A = {- 1, 0, 1}, B = {-2, 0, 1, 2} e C = {1, 2, 3, 4, 5}, determine o conjunto E = (A ∪ B) ∩ (B ∪ C).\n",
    "A = {- 1, 0, 1}\n",
    "B = {-2, 0, 1, 2}\n",
    "C = {1, 2, 3, 4, 5}\n",
    "D = A | B\n",
    "E = B | C\n",
    "F = D & E\n",
    "\n",
    "print(\"O resultado de 'E' é: \", F)"
   ]
  },
  {
   "cell_type": "code",
   "execution_count": 16,
   "metadata": {},
   "outputs": [
    {
     "name": "stdout",
     "output_type": "stream",
     "text": [
      "O resultado é:  {1, 3, 4, 5}\n"
     ]
    }
   ],
   "source": [
    "#f) Dados os conjuntos A = {- 2, - 1, 0, 1, 2}, B = {0, 2, 4, 6} e C = {0, 1, 2, 3, 4, 5}, determine o conjunto C − (A ∩ B).\n",
    "A = {- 2, - 1, 0, 1, 2}\n",
    "B = {0, 2, 4, 6}\n",
    "C = {0, 1, 2, 3, 4, 5}\n",
    "D = C - (A & B)\n",
    "\n",
    "print(\"O resultado é: \", D)"
   ]
  },
  {
   "cell_type": "code",
   "execution_count": 21,
   "metadata": {},
   "outputs": [
    {
     "name": "stdout",
     "output_type": "stream",
     "text": [
      "O resultado final é:  set()\n"
     ]
    }
   ],
   "source": [
    "#g) Dados os conjuntos A = {1, 2, 3}, B = {2, 3, 4, 5} e C = {0, 1, 2, 3, 4}, determine o conjunto:[(A ∪ B) ∩ C] − [(A ∩ B) ∪ C] .\n",
    "A = {1, 2, 3}\n",
    "B = {2, 3, 4, 5}\n",
    "C = {0, 1, 2, 3, 4}\n",
    "D = A | B\n",
    "E = A & B\n",
    "F = D & C\n",
    "G = E | C\n",
    "I = F - G\n",
    "\n",
    "print(\"O resultado final é: \", I)"
   ]
  },
  {
   "cell_type": "code",
   "execution_count": 22,
   "metadata": {},
   "outputs": [
    {
     "name": "stdout",
     "output_type": "stream",
     "text": [
      "Resultado de X =  {5}\n"
     ]
    }
   ],
   "source": [
    "#h) Se os conjuntos A = {1, 2, 3}, B = {2, 3, 4} e C = {4, 5}, determine o conjunto X tal que X = (A ∩ B) ∪ C − (A ∪ B). X = {5}\n",
    "A = {1, 2, 3}\n",
    "B = {2, 3, 4}\n",
    "C = {4, 5}\n",
    "D = A & B\n",
    "E = A | B\n",
    "F = D | C\n",
    "G = F - E\n",
    "\n",
    "print(\"Resultado de X = \", G)"
   ]
  },
  {
   "cell_type": "code",
   "execution_count": 5,
   "metadata": {},
   "outputs": [
    {
     "name": "stdout",
     "output_type": "stream",
     "text": [
      "M: {1, 2, 3, 4, 5}\n",
      "M ∪ N: {1, 2, 3, 4, 5}\n",
      "M ∩ N: {1, 2, 3}\n",
      "N: {1, 2, 3}\n"
     ]
    }
   ],
   "source": [
    "# i) Se M = {1, 2, 3, 4, 5} e N são conjuntos, tais que M ∪ N = {1, 2, 3, 4, 5} e M ∩ N = {1, 2, 3}, determine o conjunto N.\n",
    "\n",
    "M = {1, 2, 3, 4, 5}\n",
    "Uniao = {1, 2, 3, 4, 5} \n",
    "Interseccao = {1, 2, 3}  \n",
    "\n",
    "N = Interseccao | (Uniao - M)\n",
    "\n",
    "print(\"M:\", M)\n",
    "print(\"M ∪ N:\", Uniao)\n",
    "print(\"M ∩ N:\", Interseccao)\n",
    "print(\"N:\", N)"
   ]
  },
  {
   "cell_type": "code",
   "execution_count": 3,
   "metadata": {},
   "outputs": [
    {
     "name": "stdout",
     "output_type": "stream",
     "text": [
      "A - B: {'c', 'e', 'f', 'a'}\n",
      "B - C: {'d', 'g', 'i', 'h', 'b'}\n",
      "(A - B) ∩ (B - C): set()\n"
     ]
    }
   ],
   "source": [
    "#j) Dados os conjuntos A = {a, b, c, d, e, f, g}, B = {b, d, g, h, i} e C = {e, f, m, n}, determine o conjunto (A − B) ∩ (B − C).\n",
    "A = {'a', 'b', 'c', 'd', 'e', 'f', 'g'}\n",
    "B = {'b', 'd', 'g', 'h', 'i'}\n",
    "C = {'e', 'f', 'm', 'n'}\n",
    "D = A - B\n",
    "E = B - C\n",
    "F = D & E\n",
    "\n",
    "print(\"A - B:\", D)\n",
    "print(\"B - C:\", E)\n",
    "print(\"(A - B) ∩ (B - C):\", F)"
   ]
  },
  {
   "cell_type": "markdown",
   "metadata": {},
   "source": [
    "### Questão 02"
   ]
  },
  {
   "cell_type": "code",
   "execution_count": 29,
   "metadata": {},
   "outputs": [
    {
     "name": "stdout",
     "output_type": "stream",
     "text": [
      "B ∪ A = C é F\n"
     ]
    }
   ],
   "source": [
    "#Considerando os conjuntos A = {0, 1, 2, 3}, B = {- 2, - 1, 0, 1, 2} e C = {- 1, 0, 1, 2, 3, 4, 5}, analise cada\n",
    "#afirmação como verdadeira (V) ou falsa (F).\n",
    "\n",
    "A = {0, 1, 2, 3}\n",
    "B = {-2, -1, 0, 1, 2}\n",
    "C = {-1, 0, 1, 2, 3, 4, 5}\n",
    "\n",
    "#A) B∪A=C\n",
    "\n",
    "if B | A == C:\n",
    "\n",
    "    print(\"B U A = C é V\")\n",
    "else:\n",
    "    print(\"B ∪ A = C é F\")\n",
    "\n",
    "#| = Uniao\n",
    "#if = se\n",
    "#else = ne nao\n",
    "#== = verdeiro ou falso\n",
    "#& = Concatenação "
   ]
  },
  {
   "cell_type": "code",
   "execution_count": 6,
   "metadata": {},
   "outputs": [
    {
     "name": "stdout",
     "output_type": "stream",
     "text": [
      "A ∩ B = {0, 1, 2} é F\n"
     ]
    }
   ],
   "source": [
    "# b)𝐴∩𝐵={0,1,2} -> A & B == {0,1,2}\n",
    "\n",
    "if A & B == {0, 1, 2}:\n",
    "    print(\"A ∩ B = {0, 1, 2} é V\")\n",
    "else:\n",
    "    print(\"A ∩ B = {0, 1, 2} é F\")"
   ]
  },
  {
   "cell_type": "code",
   "execution_count": 15,
   "metadata": {},
   "outputs": [
    {
     "name": "stdout",
     "output_type": "stream",
     "text": [
      "A ∪ C: {'d', 'n', 'm', 'f', 'g', 'e', 'a', 'c', 'b'}\n",
      "C: {'n', 'e', 'm', 'f'}\n",
      "A ∪ C = C False\n"
     ]
    }
   ],
   "source": [
    "#d) A∪C=C\n",
    "\n",
    "A = {'a', 'b', 'c', 'd', 'e', 'f', 'g'}\n",
    "C = {'e', 'f', 'm', 'n'}\n",
    "\n",
    "Uniao = A | C\n",
    "resultado = Uniao == C\n",
    "\n",
    "print(\"A ∪ C:\", Uniao)\n",
    "print(\"C:\", C)\n",
    "print(\"A ∪ C = C\", resultado)"
   ]
  },
  {
   "cell_type": "code",
   "execution_count": 8,
   "metadata": {},
   "outputs": [
    {
     "name": "stdout",
     "output_type": "stream",
     "text": [
      "A interseção B ∩ C NÃO é igual a {-1, 0, 1, 2}.\n"
     ]
    }
   ],
   "source": [
    "#e) B∩C= −1,0,1,2\n",
    "\n",
    "B = {1, 2, 3, 4, 5}\n",
    "C = {-1, 0, 1, 2}\n",
    "\n",
    "Interseccao = B & C\n",
    "\n",
    "if Interseccao == {-1, 0, 1, 2}:\n",
    "    print(\"A interseção B ∩ C é igual a {-1, 0, 1, 2}.\")\n",
    "else:\n",
    "    print(\"A interseção B ∩ C NÃO é igual a {-1, 0, 1, 2}.\")"
   ]
  },
  {
   "cell_type": "code",
   "execution_count": 9,
   "metadata": {},
   "outputs": [
    {
     "name": "stdout",
     "output_type": "stream",
     "text": [
      "A interseção A ∩ B ∩ C é igual a {0, 1, 2}.\n"
     ]
    }
   ],
   "source": [
    "#f) A∩B∩C={0,1,2}\n",
    "\n",
    "A = {0, 1, 2, 3, 4}\n",
    "B = {0, 1, 2, 5, 6}\n",
    "C = {0, 1, 2, 7, 8}\n",
    "\n",
    "Interseccao = A & B & C\n",
    "\n",
    "if Interseccao == {0, 1, 2}:\n",
    "    print(\"A interseção A ∩ B ∩ C é igual a {0, 1, 2}.\")\n",
    "else:\n",
    "    print(\"A interseção A ∩ B ∩ C NÃO é igual a {0, 1, 2}.\")"
   ]
  },
  {
   "cell_type": "code",
   "execution_count": 10,
   "metadata": {},
   "outputs": [
    {
     "name": "stdout",
     "output_type": "stream",
     "text": [
      "A ∪ B - C NÃO é igual ao conjunto vazio {}.\n"
     ]
    }
   ],
   "source": [
    "#g) A∪B −C= { }\n",
    "\n",
    "A = {0, 1, 2, 3, 4}\n",
    "B = {2, 3, 4, 5}\n",
    "C = {1, 4, 6}\n",
    "\n",
    "D = (A | B) - C\n",
    "\n",
    "if D == set():\n",
    "    print(\"A ∪ B - C é igual ao conjunto vazio {}.\")\n",
    "else:\n",
    "    print(\"A ∪ B - C NÃO é igual ao conjunto vazio {}.\")"
   ]
  },
  {
   "cell_type": "code",
   "execution_count": 11,
   "metadata": {},
   "outputs": [
    {
     "name": "stdout",
     "output_type": "stream",
     "text": [
      "A - C NÃO é igual ao conjunto vazio {}.\n"
     ]
    }
   ],
   "source": [
    "#h) A−C=∅\n",
    "\n",
    "A = {0, 1, 2, 3, 4}\n",
    "C = {1, 4, 5}\n",
    "\n",
    "D = A - C\n",
    "\n",
    "if D == set():\n",
    "    print(\"A - C é igual ao conjunto vazio {}.\")\n",
    "else:\n",
    "    print(\"A - C NÃO é igual ao conjunto vazio {}.\")"
   ]
  },
  {
   "cell_type": "code",
   "execution_count": 12,
   "metadata": {},
   "outputs": [
    {
     "name": "stdout",
     "output_type": "stream",
     "text": [
      "B - C ∪ C - A NÃO é igual a {-2, -1, 4, 5}.\n"
     ]
    }
   ],
   "source": [
    "#i) B−C ∪ C−A ={−2,−1,4,5}\n",
    "\n",
    "B = {-2, -1, 0, 4, 5}\n",
    "C = {0, 1, 2, 4, 5}\n",
    "A = {1, 2, 3}\n",
    "\n",
    "D = B - C\n",
    "E = C - A\n",
    "\n",
    "resultado = D | E\n",
    "\n",
    "if resultado == {-2, -1, 4, 5}:\n",
    "    print(\"B - C ∪ C - A é igual a {-2, -1, 4, 5}.\")\n",
    "else:\n",
    "    print(\"B - C ∪ C - A NÃO é igual a {-2, -1, 4, 5}.\")"
   ]
  },
  {
   "cell_type": "code",
   "execution_count": 13,
   "metadata": {},
   "outputs": [
    {
     "name": "stdout",
     "output_type": "stream",
     "text": [
      "A ∩ C - B NÃO é igual a {3}.\n"
     ]
    }
   ],
   "source": [
    "#j) A∩ C−B = {3}\n",
    "\n",
    "A = {1, 2, 3, 4, 5}\n",
    "B = {2, 3, 4}\n",
    "C = {3, 4, 5, 6}\n",
    "\n",
    "D = (A & C) - B\n",
    "\n",
    "if D == {3}:\n",
    "    print(\"A ∩ C - B é igual a {3}.\")\n",
    "else:\n",
    "    print(\"A ∩ C - B NÃO é igual a {3}.\")"
   ]
  },
  {
   "cell_type": "markdown",
   "metadata": {},
   "source": [
    "### Questao 03"
   ]
  },
  {
   "cell_type": "code",
   "execution_count": 14,
   "metadata": {},
   "outputs": [
    {
     "name": "stdout",
     "output_type": "stream",
     "text": [
      "A =  {1, 5, 6} \n",
      "\n",
      "B =  {1, 5, 6} \n",
      "\n"
     ]
    }
   ],
   "source": [
    "# Código para resolver: Se A | B = {0, 1, 2, 3, 4, 5, 6}, A & B = {2, 4} e A - B = {1, 5, 6} então B é?\n",
    "\n",
    "B = {0, 1, 2, 3, 4, 5, 6}\n",
    "B = {2, 4}\n",
    "B = {1, 5, 6}\n",
    "\n",
    "A = B | B\n",
    "print(\"A = \",A ,\"\\n\")\n",
    "B = (B - A) | B\n",
    "print(\"B = \", B, \"\\n\")"
   ]
  }
 ],
 "metadata": {
  "kernelspec": {
   "display_name": "Python 3 (ipykernel)",
   "language": "python",
   "name": "python3"
  },
  "language_info": {
   "codemirror_mode": {
    "name": "ipython",
    "version": 3
   },
   "file_extension": ".py",
   "mimetype": "text/x-python",
   "name": "python",
   "nbconvert_exporter": "python",
   "pygments_lexer": "ipython3",
   "version": "3.13.2"
  }
 },
 "nbformat": 4,
 "nbformat_minor": 4
}
