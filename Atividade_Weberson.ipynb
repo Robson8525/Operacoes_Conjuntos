{
 "cells": [
  {
   "cell_type": "code",
   "execution_count": null,
   "id": "2624f0c5",
   "metadata": {},
   "outputs": [
    {
     "name": "stdout",
     "output_type": "stream",
     "text": [
      "A soma de:  5.0 + 3.0 :  8.0\n",
      "A subtração de:  7.0 - 2.0 :  5.0\n",
      "A multiplicação de:  4.0 * 2.0 :  8.0\n",
      "A divisão de:  10.0 / 2.0 :  5.0\n"
     ]
    }
   ],
   "source": [
    "# A entrada dos valores para os calculos.\n",
    "A = float(input(\"Digite um número para soma: \"))\n",
    "B = float(input(\"Digite outro número para a soma: \"))\n",
    "C = float(input(\"Digite um número para subtração: \"))\n",
    "D = float(input(\"Digite outro número para a subtração: \"))\n",
    "E = float(input(\"Digite um número para multiplicação: \"))\n",
    "F = float(input(\"Digite outro número para a multiplicação: \"))\n",
    "G = float(input(\"Digite um número para divisão: \"))\n",
    "H = float(input(\"Digite outro número para a divisão: \"))\n",
    "\n",
    "# Os calculos das operações.\n",
    "Soma = A + B\n",
    "Subtracao = C - D       \n",
    "Multiplicacao = E * F\n",
    "Divisao = G / H\n",
    "\n",
    "# Exibindo os resultados.\n",
    "print(\"A soma de: \", A,\"+\", B, \": \", Soma)\n",
    "print(\"A subtração de: \", C,\"-\", D, \": \", Subtracao)   \n",
    "print(\"A multiplicação de: \", E,\"*\", F, \": \", Multiplicacao)\n",
    "print(\"A divisão de: \", G,\"/\", H, \": \", Divisao)"
   ]
  },
  {
   "cell_type": "code",
   "execution_count": null,
   "id": "95b8b7c4",
   "metadata": {},
   "outputs": [
    {
     "name": "stdout",
     "output_type": "stream",
     "text": [
      "O resultado da expressão (a + b) * c - a² é: 4.0\n"
     ]
    }
   ],
   "source": [
    "# A entrada dos valores para os calculos.\n",
    "a = float(input(\"Digite um número: \"))\n",
    "b = float(input(\"Digite outro número: \"))\n",
    "c = float(input(\"Digite um número: \"))\n",
    "\n",
    "# O calculo da expressão.\n",
    "resultado = (a + b) * c - a ** 2\n",
    "\n",
    "# Exibindo o resultado.         \n",
    "print(\"O resultado da expressão (a + b) * c - a² é:\", resultado)"
   ]
  },
  {
   "cell_type": "code",
   "execution_count": null,
   "id": "87ea5ded",
   "metadata": {},
   "outputs": [
    {
     "name": "stdout",
     "output_type": "stream",
     "text": [
      "3.0 x 1 = 3.0\n",
      "3.0 x 2 = 6.0\n",
      "3.0 x 3 = 9.0\n",
      "3.0 x 4 = 12.0\n",
      "3.0 x 5 = 15.0\n",
      "3.0 x 6 = 18.0\n",
      "3.0 x 7 = 21.0\n",
      "3.0 x 8 = 24.0\n",
      "3.0 x 9 = 27.0\n",
      "3.0 x 10 = 30.0\n",
      "O número que foi digitado foi: {3.0}\n"
     ]
    }
   ],
   "source": [
    "# A entrada dos valores para os calculos.\n",
    "a = float(input(\"Digite um número que vai ser cultiplicado de 1 a 10: \"))\n",
    "\n",
    "# O calculo da multiplicação.\n",
    "for i in range(1, 11):\n",
    "    resultado = a * i\n",
    "    print(f\"{a} x {i} = {resultado}\")\n",
    "    \n",
    "# Exibindo o resultado.\n",
    "print(f\"O número que foi digitado foi:\" ,{a})   "
   ]
  },
  {
   "cell_type": "code",
   "execution_count": null,
   "id": "49094665",
   "metadata": {},
   "outputs": [
    {
     "name": "stdout",
     "output_type": "stream",
     "text": [
      "Maior número: 30.0\n",
      "Menor número: 10.0\n",
      "Média aritmética: 20.0\n"
     ]
    }
   ],
   "source": [
    "# A entrada dos valores para os calculos.\n",
    "A = float(input(\"Digite o primeiro número: \"))\n",
    "B = float(input(\"Digite o segundo número: \"))\n",
    "C = float(input(\"Digite o terceiro número: \"))\n",
    "\n",
    "# Calculo do maior e do menor.\n",
    "maior = max(A, B, C)\n",
    "menor = min(A, B, C)\n",
    "\n",
    "# Calcula a média aritmética.\n",
    "media = (A + B + C) / 3\n",
    "\n",
    "# Exibindo os resultados.\n",
    "print(\"Maior número:\", maior)\n",
    "print(\"Menor número:\", menor)\n",
    "print(\"Média aritmética:\", media)\n"
   ]
  },
  {
   "cell_type": "code",
   "execution_count": 20,
   "id": "29e47ad5",
   "metadata": {},
   "outputs": [
    {
     "name": "stdout",
     "output_type": "stream",
     "text": [
      "2 9\n"
     ]
    }
   ],
   "source": [
    "def soma(lista): return sum(lista)\n",
    "numeros = [3, 5, 7]; media = sum(numeros)/len(numeros)\n",
    "valores = [4, 2, 9]; print(min(valores), max(valores))"
   ]
  },
  {
   "cell_type": "code",
   "execution_count": 22,
   "id": "cc9bbe00",
   "metadata": {},
   "outputs": [
    {
     "name": "stdout",
     "output_type": "stream",
     "text": [
      "Média: 20.0\n",
      "Maior número: 30.0\n",
      "Menor número: 10.0\n",
      "Quantidade de números maiores que a média: 2\n"
     ]
    }
   ],
   "source": [
    "# A entrada dos valores para os calculos.\n",
    "# Solicita ao usuário que digite os números separados por espaço.\n",
    "entrada = input(\"Digite os números separados por espaço: \")\n",
    "\n",
    "# Converte a entrada para uma lista de floats\n",
    "numeros = list(map(float, entrada.split()))\n",
    "\n",
    "# Verifica se a lista está vazia.\n",
    "if not numeros:\n",
    "    print(\"Nenhum número foi digitado.\")\n",
    "else:\n",
    "# Calculo da média.\n",
    "    media = sum(numeros) / len(numeros)\n",
    "\n",
    "# Encontre a maior e o menor.\n",
    "    maior = max(numeros)\n",
    "    menor = min(numeros)\n",
    "\n",
    "# Conta quantos números são maiores que a média.\n",
    "    maiores_que_media = sum(1 for n in numeros if n > media)\n",
    "\n",
    "# Exibindo os resultados.\n",
    "    print(\"Média:\", media)\n",
    "    print(\"Maior número:\", maior)\n",
    "    print(\"Menor número:\", menor)\n",
    "    print(\"Quantidade de números maiores que a média:\", maiores_que_media)\n"
   ]
  },
  {
   "cell_type": "code",
   "execution_count": null,
   "id": "c0ae657a",
   "metadata": {},
   "outputs": [
    {
     "name": "stdout",
     "output_type": "stream",
     "text": [
      "O resultado da função f(x) = 3x + 2 é: 8.0\n",
      "O valor de x é: 2.0\n"
     ]
    }
   ],
   "source": [
    "#A entrada dos valores para os calculos.\n",
    "x = float(input(\"Digite o valor de x: \"))\n",
    "\n",
    "# O calculo da função.\n",
    "resultado = 3 * x + 2   \n",
    "\n",
    "# Exibindo o resultado.\n",
    "print(\"O resultado da função f(x) = 3x + 2 é:\", resultado)  \n",
    "print(\"O valor de x é:\", x)\n"
   ]
  },
  {
   "cell_type": "code",
   "execution_count": 25,
   "id": "fcf23723",
   "metadata": {},
   "outputs": [
    {
     "name": "stdout",
     "output_type": "stream",
     "text": [
      "O salário para 20.0 horas trabalhadas é: R$ 600.00\n"
     ]
    }
   ],
   "source": [
    "# Define a função salarial.\n",
    "def salario(horas):\n",
    "    return 20 * horas + 200\n",
    "\n",
    "# Solicita as horas trabalhadas\n",
    "h = float(input(\"Digite o número de horas trabalhadas: \"))\n",
    "\n",
    "# Calcula o salário\n",
    "s = salario(h)\n",
    "\n",
    "# Exibe o resultado\n",
    "print(f\"O salário para {h} horas trabalhadas é: R$ {s:.2f}\")\n"
   ]
  },
  {
   "cell_type": "code",
   "execution_count": null,
   "id": "efe01fa6",
   "metadata": {},
   "outputs": [
    {
     "name": "stdout",
     "output_type": "stream",
     "text": [
      "O resultado da função f(x) = x² - 3x + 2 para x = 5.0 é: 12.0\n"
     ]
    }
   ],
   "source": [
    "def f(x):\n",
    "    return x**2 - 3*x + 2           \n",
    "\n",
    "# Solicita o valor de x.\n",
    "x = float(input(\"Digite o valor de x: \"))   \n",
    "\n",
    "# Calcula o valor da função.\n",
    "resultado = f(x)  \n",
    "      \n",
    "# Exibe o resultado.\n",
    "print(f\"O resultado da função f(x) = x² - 3x + 2 para x = {x} é: {resultado}\")  "
   ]
  },
  {
   "cell_type": "code",
   "execution_count": null,
   "id": "045457d4",
   "metadata": {},
   "outputs": [
    {
     "name": "stdout",
     "output_type": "stream",
     "text": [
      "O resultado de f(g(6)) é: 6\n"
     ]
    }
   ],
   "source": [
    "# Calculo da função composta.\n",
    "def f(x):\n",
    "    return x**2 + 2\n",
    "def g(x):\n",
    "    return x - 4\n",
    "x = 6\n",
    "resultado = f(g(x))\n",
    "# Exibindo o resultado.\n",
    "print(f\"O resultado de f(g({x})) é: {resultado}\")"
   ]
  },
  {
   "cell_type": "code",
   "execution_count": null,
   "id": "d95feef8",
   "metadata": {},
   "outputs": [
    {
     "name": "stdout",
     "output_type": "stream",
     "text": [
      " 0 | -150.00\n",
      " 1 | -144.00\n",
      " 2 | -138.00\n",
      " 3 | -132.00\n",
      " 4 | -126.00\n",
      " 5 | -120.00\n",
      " 6 | -114.00\n",
      " 7 | -108.00\n",
      " 8 | -102.00\n",
      " 9 | -96.00\n",
      "10 | -90.00\n",
      "11 | -84.00\n",
      "12 | -78.00\n",
      "13 | -72.00\n",
      "14 | -66.00\n",
      "15 | -60.00\n",
      "16 | -54.00\n",
      "17 | -48.00\n",
      "18 | -42.00\n",
      "19 | -36.00\n",
      "20 | -30.00\n"
     ]
    }
   ],
   "source": [
    "# Calculando função Lucro.\n",
    "def eu(t):\n",
    "    return 12*t - (6*t + 150)   \n",
    "\n",
    "resultado = eu(t)\n",
    "\n",
    "# Exibe o resultado de 0 até 20\n",
    "for t in range(21):  \n",
    "    resultado = eu(t)\n",
    "    print(f\"{t:2} | {resultado:.2f}\")\n"
   ]
  },
  {
   "cell_type": "code",
   "execution_count": null,
   "id": "3571f394",
   "metadata": {},
   "outputs": [],
   "source": []
  }
 ],
 "metadata": {
  "kernelspec": {
   "display_name": "Python 3",
   "language": "python",
   "name": "python3"
  },
  "language_info": {
   "codemirror_mode": {
    "name": "ipython",
    "version": 3
   },
   "file_extension": ".py",
   "mimetype": "text/x-python",
   "name": "python",
   "nbconvert_exporter": "python",
   "pygments_lexer": "ipython3",
   "version": "3.13.2"
  }
 },
 "nbformat": 4,
 "nbformat_minor": 5
}
